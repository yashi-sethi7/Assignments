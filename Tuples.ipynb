{
 "cells": [
  {
   "cell_type": "code",
   "execution_count": null,
   "id": "7d922bde",
   "metadata": {},
   "outputs": [
    {
     "name": "stdout",
     "output_type": "stream",
     "text": [
      "Merged tuple without duplicates: (1, 3, 5, 7, 8, 2, 4, 6)\n"
     ]
    }
   ],
   "source": [
    "#Q1 wap to merge two tuples and remove duplicates\n",
    "\n",
    "t1=(1,3,5,7,8)\n",
    "t2=(2,4,6,8,5)\n",
    "t3=t1+t2\n",
    "duplicates = () \n",
    "for item in t3:\n",
    "    if item not in duplicates:\n",
    "        duplicates += (item,)\n",
    "\n",
    "print(\"Merged tuple without duplicates:\", duplicates)\n",
    "\n"
   ]
  },
  {
   "cell_type": "code",
   "execution_count": null,
   "id": "da36a542",
   "metadata": {},
   "outputs": [
    {
     "name": "stdout",
     "output_type": "stream",
     "text": [
      "Merged tuple without duplicates: (1, 3, 5, 7, 8, 2, 4, 6, 8, 5)\n"
     ]
    }
   ],
   "source": [
    "#alternate method\n",
    "\n",
    "t1=(1,3,5,7,8)\n",
    "t2=(2,4,6,8,5)\n",
    "t3=t1+t2\n",
    "duplicate = []\n",
    "for item in t3:\n",
    "    if item not in duplicates:\n",
    "      duplicate.append(item)\n",
    "\n",
    "print(\"Merged tuple without duplicates:\", tuple(duplicate))\n"
   ]
  },
  {
   "cell_type": "code",
   "execution_count": 14,
   "id": "5d61749e",
   "metadata": {},
   "outputs": [
    {
     "name": "stdout",
     "output_type": "stream",
     "text": [
      "Tuple of strings: ('1', '2', '3', '4', '5')\n"
     ]
    }
   ],
   "source": [
    "#Q2 wap to convert a tuple of integers to a tuple of strings \n",
    "\n",
    "t1=(1,2,3,4,5)\n",
    "t2 = tuple(str(item) for item in t1)\n",
    "\n",
    "print(\"Tuple of strings:\", t2)\n"
   ]
  },
  {
   "cell_type": "code",
   "execution_count": 28,
   "id": "ba9db9e0",
   "metadata": {},
   "outputs": [
    {
     "name": "stdout",
     "output_type": "stream",
     "text": [
      "Frequencies: ((1, 2), (6, 3), (9, 1), (5, 1), (0, 1))\n"
     ]
    }
   ],
   "source": [
    "#Q3 wap to find the frequency of each element in a tuple \n",
    "\n",
    "t1=(1,6,9,5,1,6,6,0)\n",
    "freq = []\n",
    "\n",
    "for item in t1:\n",
    "    if item not in freq:\n",
    "        freq.append(item)\n",
    "\n",
    "new= tuple((item,t1.count(item)) for item in freq)\n",
    "\n",
    "print(\"Frequencies:\", new)\n",
    "\n",
    "\n",
    "\n",
    "\n"
   ]
  },
  {
   "cell_type": "code",
   "execution_count": 29,
   "id": "e207741c",
   "metadata": {},
   "outputs": [
    {
     "name": "stdout",
     "output_type": "stream",
     "text": [
      "Difference: (10, 30, 50)\n"
     ]
    }
   ],
   "source": [
    "#Q4 wap to find the difference between two tuples \n",
    "\n",
    "t1 = (10, 20, 30, 40, 50)\n",
    "t2 = (20, 40, 60)\n",
    "diff = ()\n",
    "\n",
    "for item in t1:\n",
    "    if item not in t2:\n",
    "        diff += (item,)  \n",
    "\n",
    "print(\"Difference:\", diff)\n",
    "\n"
   ]
  },
  {
   "cell_type": "code",
   "execution_count": 30,
   "id": "5ed1c34b",
   "metadata": {},
   "outputs": [
    {
     "name": "stdout",
     "output_type": "stream",
     "text": [
      "Difference: (10, 30, 50)\n"
     ]
    }
   ],
   "source": [
    " #alternate method\n",
    "t1 = (10, 20, 30, 40, 50)\n",
    "t2 = (20, 40, 60)\n",
    "diff= tuple(item for item in t1 if item not in t2)\n",
    "print(\"Difference:\",diff)\n",
    "\n",
    "\n"
   ]
  },
  {
   "cell_type": "code",
   "execution_count": 3,
   "id": "cc65fbdf",
   "metadata": {},
   "outputs": [
    {
     "name": "stdout",
     "output_type": "stream",
     "text": [
      "second largest: 78\n"
     ]
    }
   ],
   "source": [
    "#Q5 wap to find the second largest element\n",
    "\n",
    "t1=(2,78,65,49,98,32,0)\n",
    "sort=(sorted(t1,reverse=True))\n",
    "print(\"second largest:\",sort[1])\n"
   ]
  },
  {
   "cell_type": "code",
   "execution_count": null,
   "id": "4be06d7f",
   "metadata": {},
   "outputs": [
    {
     "name": "stdout",
     "output_type": "stream",
     "text": [
      "t2 is a subset of t1\n"
     ]
    }
   ],
   "source": [
    "#Q6 wap to check if a tuple is a subset of another tuple \n",
    "\n",
    "t1=(1,2,3,4,5,6)\n",
    "t2=(2,4,6)\n",
    "if all(item in t1 for item in t2):\n",
    "    print(\"t2 is a subset of t1\")\n",
    "else:\n",
    "    print(\"t2 is not a subset of t1\")\n",
    "\n"
   ]
  },
  {
   "cell_type": "code",
   "execution_count": 8,
   "id": "c3d75a74",
   "metadata": {},
   "outputs": [
    {
     "name": "stdout",
     "output_type": "stream",
     "text": [
      "Tuple with 2 digit elemnts [(47, 22), (22, 53)]\n"
     ]
    }
   ],
   "source": [
    "#Q7 wap to extract tuples having K digit elements \n",
    "\n",
    "K=2\n",
    "data=[(47,22),(3,78),(22,53),(121,45),(7,1)]\n",
    "extract=[]\n",
    "\n",
    "for tup in data:\n",
    "    if all(len(str(item))==K for item in tup):\n",
    "        extract.append(tup)\n",
    "print(\"Tuple with\",K,\"digit elemnts\",extract)\n",
    "\n",
    "\n"
   ]
  },
  {
   "cell_type": "code",
   "execution_count": 21,
   "id": "ed574a2b",
   "metadata": {},
   "outputs": [
    {
     "name": "stdout",
     "output_type": "stream",
     "text": [
      "second item: [('for', 2), ('Go', 5), ('to', 7), ('is', 9), ('a', 13), ('or', 15)]\n"
     ]
    }
   ],
   "source": [
    "#Q8 wap to sort a list of tuples by the second item\n",
    "\n",
    "list =[('for',2),('is',9),('to',7),('Go',5),('or',15),('a',13)]\n",
    "sort= sorted(list, key= lambda tup:tup[1])\n",
    "print(\"second item:\",sort)"
   ]
  },
  {
   "cell_type": "code",
   "execution_count": 13,
   "id": "493116ab",
   "metadata": {},
   "outputs": [
    {
     "name": "stdout",
     "output_type": "stream",
     "text": [
      "(98, 'red', 8800)\n"
     ]
    }
   ],
   "source": [
    "#Q9 wap to remove an element from tuple \n",
    "\n",
    "t1=(\"yashi\",98,\"red\",8800)\n",
    "element =(input(\"enter an element to remove:\"))\n",
    "new= list(t1)\n",
    "new.remove(element)\n",
    "print(tuple(new))"
   ]
  },
  {
   "cell_type": "code",
   "execution_count": null,
   "id": "026dfc95",
   "metadata": {},
   "outputs": [
    {
     "name": "stdout",
     "output_type": "stream",
     "text": [
      "Element-wise sum: (6, 9, 8, 6)\n"
     ]
    }
   ],
   "source": [
    "#Q10 wap to compute the element wise sum of given tuples\n",
    "\n",
    "t1=(1,2,3,4)\n",
    "t2=(3,5,2,1)\n",
    "t3=(2,2,3,1)\n",
    "\n",
    "#sum = tuple(sum(group) for group in zip(*t1))\n",
    "\n",
    "#or \n",
    "\n",
    "sum= tuple([t1[index] + t2[index] + t3[index] for index in range(len(t1))])\n",
    "\n",
    "print(\"Element-wise sum:\", sum)\n",
    "\n",
    "\n",
    "\n"
   ]
  },
  {
   "cell_type": "code",
   "execution_count": null,
   "id": "0f0086d2",
   "metadata": {},
   "outputs": [],
   "source": []
  }
 ],
 "metadata": {
  "kernelspec": {
   "display_name": "Python 3",
   "language": "python",
   "name": "python3"
  },
  "language_info": {
   "codemirror_mode": {
    "name": "ipython",
    "version": 3
   },
   "file_extension": ".py",
   "mimetype": "text/x-python",
   "name": "python",
   "nbconvert_exporter": "python",
   "pygments_lexer": "ipython3",
   "version": "3.12.1"
  }
 },
 "nbformat": 4,
 "nbformat_minor": 5
}
