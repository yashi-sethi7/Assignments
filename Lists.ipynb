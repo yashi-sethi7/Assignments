{
 "cells": [
  {
   "cell_type": "code",
   "execution_count": 1,
   "id": "b847f2b0",
   "metadata": {},
   "outputs": [
    {
     "name": "stdout",
     "output_type": "stream",
     "text": [
      "[50, 20, 30, 40, 10]\n"
     ]
    }
   ],
   "source": [
    "#Q1 WAP to interchange first and last elements in a list \n",
    "\n",
    "list = [10, 20, 30, 40, 50]\n",
    "list[0],list[-1]=list[-1],list[0]\n",
    "print(list)"
   ]
  },
  {
   "cell_type": "code",
   "execution_count": null,
   "id": "f4e6ef36",
   "metadata": {},
   "outputs": [
    {
     "name": "stdout",
     "output_type": "stream",
     "text": [
      "['apple', 'banana', 'cherry']\n"
     ]
    }
   ],
   "source": [
    "#Q2 WAP to remove multiple empty strings from a list of strings\n",
    "\n",
    "list = [\"apple\", \"\", \"banana\", \"\", \"\", \"cherry\", \"\"]\n",
    "cleaned = [item for item in list if item != \"\"]\n",
    "print(cleaned)\n",
    "\n",
    "# alternate method\n",
    "\n",
    "# my_list = [\"apple\", \"\", \"banana\", \"\", \"\", \"cherry\", \"\"]\n",
    "# while \"\" in my_list:\n",
    "#   my_list.remove(\"\") \n",
    "# print(\"Cleaned list:\", my_list)\n"
   ]
  },
  {
   "cell_type": "code",
   "execution_count": 8,
   "id": "87509e31",
   "metadata": {},
   "outputs": [
    {
     "name": "stdout",
     "output_type": "stream",
     "text": [
      "[10, 20]\n",
      "[30, 40, 50]\n"
     ]
    }
   ],
   "source": [
    "#Q3 WAP to split a list in half and store the elements in two different lists\n",
    "\n",
    "list = [10, 20, 30, 40, 50]\n",
    "mid= len(list)//2\n",
    "list1= list[0:mid]\n",
    "list2= list[mid:]\n",
    "print(list1)\n",
    "print(list2)\n"
   ]
  },
  {
   "cell_type": "code",
   "execution_count": 12,
   "id": "740c96c8",
   "metadata": {},
   "outputs": [
    {
     "name": "stdout",
     "output_type": "stream",
     "text": [
      "cleaned_list : [1, 2, 3, 5, 2]\n"
     ]
    }
   ],
   "source": [
    "#Q4 WAP to remove all occurrences of a specific element from a given list\n",
    "\n",
    "list=[1,2,3,4,5,2,4]\n",
    "remove_element=4\n",
    "cleaned_list=[item for item in list if item != remove_element]\n",
    "print(\"cleaned_list\",\":\",cleaned_list)"
   ]
  },
  {
   "cell_type": "code",
   "execution_count": 11,
   "id": "2142d2b2",
   "metadata": {},
   "outputs": [
    {
     "name": "stdout",
     "output_type": "stream",
     "text": [
      "[1, 2, 3]\n"
     ]
    }
   ],
   "source": [
    "#Q5 wap to remove negative values from a list with filter() function \n",
    "\n",
    "list=[1,2,3,-4,-5,-2]\n",
    "cleaned_list=[item for item in list if item >=0]\n",
    "print(cleaned_list)"
   ]
  },
  {
   "cell_type": "code",
   "execution_count": 31,
   "id": "732e6abd",
   "metadata": {},
   "outputs": [
    {
     "name": "stdout",
     "output_type": "stream",
     "text": [
      "Number of matching strings: 3\n"
     ]
    }
   ],
   "source": [
    "#Q6 wap to count the number of strings where the string length is 2 or more and the first and last character are same from given list of strings \n",
    "\n",
    "list=['rose','jasmine','sunflowers','lil','11','0']\n",
    "count=0\n",
    "\n",
    "for item in list:\n",
    "    if len(item) >= 2 and item[0] == item[-1]:\n",
    "        count += 1\n",
    "\n",
    "print(\"Number of matching strings:\", count)\n",
    "\n",
    "    \n",
    "\n"
   ]
  },
  {
   "cell_type": "code",
   "execution_count": 32,
   "id": "479c3f77",
   "metadata": {},
   "outputs": [
    {
     "name": "stdout",
     "output_type": "stream",
     "text": [
      "Shuffled list: ['dog', 'panda', 'cat', 'elephant', 'tiger', 'fox']\n"
     ]
    }
   ],
   "source": [
    "#Q7 wap to shuffle and print a specified list (shuffle)\n",
    "\n",
    "import random\n",
    "animals = ['cat', 'dog', 'elephant', 'fox', 'tiger', 'panda']\n",
    "\n",
    "random.shuffle(animals)\n",
    "\n",
    "print(\"Shuffled list:\", animals)\n"
   ]
  },
  {
   "cell_type": "code",
   "execution_count": 35,
   "id": "d9492aa8",
   "metadata": {},
   "outputs": [
    {
     "name": "stdout",
     "output_type": "stream",
     "text": [
      "cleaned string: [78, 77, 3, 21, 6, 1, 90]\n"
     ]
    }
   ],
   "source": [
    "#Q8 wap to remove repetitive items from a list\n",
    "\n",
    "list=[78,77,3,21,6,77,3,1,90]\n",
    "result=[]\n",
    "for item in list:\n",
    "    if item not in result:\n",
    "        result.append(item)\n",
    "print('cleaned string:',result)\n",
    "\n"
   ]
  },
  {
   "cell_type": "code",
   "execution_count": null,
   "id": "51262f14",
   "metadata": {},
   "outputs": [
    {
     "name": "stdout",
     "output_type": "stream",
     "text": [
      "Longest word: elephant\n"
     ]
    }
   ],
   "source": [
    "#Q9 find the longest word in the list of words \n",
    "\n",
    "words = ['dog', 'elephant', 'fox', 'tiger', 'panda']\n",
    "longest = max(words, key=len)\n",
    "print(\"Longest word:\", longest)\n",
    "\n"
   ]
  },
  {
   "cell_type": "code",
   "execution_count": null,
   "id": "8d18a17b",
   "metadata": {},
   "outputs": [],
   "source": []
  }
 ],
 "metadata": {
  "kernelspec": {
   "display_name": "Python 3",
   "language": "python",
   "name": "python3"
  },
  "language_info": {
   "codemirror_mode": {
    "name": "ipython",
    "version": 3
   },
   "file_extension": ".py",
   "mimetype": "text/x-python",
   "name": "python",
   "nbconvert_exporter": "python",
   "pygments_lexer": "ipython3",
   "version": "3.12.1"
  }
 },
 "nbformat": 4,
 "nbformat_minor": 5
}
