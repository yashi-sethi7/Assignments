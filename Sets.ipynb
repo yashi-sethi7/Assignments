{
 "cells": [
  {
   "cell_type": "code",
   "execution_count": 2,
   "id": "6e703af9",
   "metadata": {},
   "outputs": [
    {
     "name": "stdout",
     "output_type": "stream",
     "text": [
      "set1 is NOT a subset of set2\n"
     ]
    }
   ],
   "source": [
    "#Q1 wap to check if a set is a subset of another set\n",
    "\n",
    "\n",
    "set1 = {1, 2, 7}\n",
    "set2 = {1, 2, 3, 4, 5}\n",
    "\n",
    "\n",
    "if set1.issubset(set2):\n",
    "    print(\"set1 is a subset of set2\")\n",
    "else:\n",
    "    print(\"set1 is NOT a subset of set2\")\n",
    "\n",
    "\n"
   ]
  },
  {
   "cell_type": "code",
   "execution_count": 3,
   "id": "3f1c21fd",
   "metadata": {},
   "outputs": [
    {
     "name": "stdout",
     "output_type": "stream",
     "text": [
      "{0, 1, 2, 4, 5, 7, 8}\n"
     ]
    }
   ],
   "source": [
    "# Q2 wap to remove duplicates from a given list of strings \n",
    "\n",
    "l=[2,7,5,4,7,8,4,2,1,0]\n",
    "s=set(l)\n",
    "print(s)"
   ]
  },
  {
   "cell_type": "code",
   "execution_count": null,
   "id": "2d048591",
   "metadata": {},
   "outputs": [
    {
     "name": "stdout",
     "output_type": "stream",
     "text": [
      "Union: {0, 98, 99, 67, 5, 11, 77, 54, 23, 27}\n",
      "Intersection: {0, 11, 67}\n",
      "Symmetric_difference: {98, 99, 5, 77, 54, 23, 27}\n"
     ]
    }
   ],
   "source": [
    "#Q3 wap to find union ,symmetric difference,and intersection of two sets and print the results of each operation \n",
    "\n",
    "s1={5,99,67,54,23,11,0}\n",
    "s2={67,11,77,0,98,27}\n",
    "\n",
    "u=s1.union(s2)\n",
    "print(\"Union:\",u)\n",
    "\n",
    "i=s1.intersection(s2)\n",
    "print(\"Intersection:\",i)\n",
    "\n",
    "d=s1.symmetric_difference(s2)\n",
    "print(\"Symmetric_difference:\",d)"
   ]
  },
  {
   "cell_type": "code",
   "execution_count": 6,
   "id": "c754b32f",
   "metadata": {},
   "outputs": [
    {
     "name": "stdout",
     "output_type": "stream",
     "text": [
      "Symmetric Difference: {1, 2, 5, 6}\n"
     ]
    }
   ],
   "source": [
    "#Q4 wap to create symmetric difference \n",
    "\n",
    "\n",
    "set1 = {1, 2, 3, 4}\n",
    "set2 = {3, 4, 5, 6}\n",
    "symmetric_diff = set1 ^ set2 \n",
    "\n",
    "print(\"Symmetric Difference:\", symmetric_diff)\n"
   ]
  },
  {
   "cell_type": "code",
   "execution_count": 7,
   "id": "e0e55fe1",
   "metadata": {},
   "outputs": [
    {
     "name": "stdout",
     "output_type": "stream",
     "text": [
      "Number of vowels: 7\n"
     ]
    }
   ],
   "source": [
    "#Q5 wap to count the number of vowels using sets in given string \n",
    "\n",
    "\n",
    "text = input(\"Enter a string: \")\n",
    "\n",
    "vowels = {'a', 'e', 'i', 'o', 'u', 'A', 'E', 'I', 'O', 'U'}\n",
    "char_list = list(text)\n",
    "\n",
    "count = 0\n",
    "for char in char_list:\n",
    "    if char in vowels:\n",
    "        count += 1\n",
    "\n",
    "print(\"Number of vowels:\", count)\n"
   ]
  },
  {
   "cell_type": "code",
   "execution_count": null,
   "id": "1e70d131",
   "metadata": {},
   "outputs": [],
   "source": []
  }
 ],
 "metadata": {
  "kernelspec": {
   "display_name": "Python 3",
   "language": "python",
   "name": "python3"
  },
  "language_info": {
   "codemirror_mode": {
    "name": "ipython",
    "version": 3
   },
   "file_extension": ".py",
   "mimetype": "text/x-python",
   "name": "python",
   "nbconvert_exporter": "python",
   "pygments_lexer": "ipython3",
   "version": "3.12.1"
  }
 },
 "nbformat": 4,
 "nbformat_minor": 5
}
