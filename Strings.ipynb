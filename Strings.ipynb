{
 "cells": [
  {
   "cell_type": "code",
   "execution_count": 3,
   "id": "c26af401",
   "metadata": {},
   "outputs": [
    {
     "name": "stdout",
     "output_type": "stream",
     "text": [
      "True\n"
     ]
    }
   ],
   "source": [
    " #Q1 WAP to print true if all charcters in the string are digits, print false if not \n",
    "\n",
    "text = (\"12\")\n",
    "\n",
    "if text.isdigit():\n",
    "    print(True)\n",
    "else:\n",
    "    print(False)"
   ]
  },
  {
   "cell_type": "code",
   "execution_count": 6,
   "id": "aeeae6d1",
   "metadata": {},
   "outputs": [
    {
     "name": "stdout",
     "output_type": "stream",
     "text": [
      "First: Y\n",
      "Middle: s\n",
      "Last: i\n",
      "New string: Ysi\n"
     ]
    }
   ],
   "source": [
    "#Q2 WAP to create new string made of the first, middle and last character of each input string \n",
    "\n",
    "text = \" Yashi \".strip()\n",
    "\n",
    "first_char = text[0]\n",
    "middle_char = text[len(text) // 2]\n",
    "last_char = text[-1]\n",
    "\n",
    "print(\"First:\", first_char)\n",
    "print(\"Middle:\", middle_char)\n",
    "print(\"Last:\", last_char)\n",
    "\n",
    "new_string = first_char + middle_char + last_char\n",
    "print(\"New string:\", new_string)\n"
   ]
  },
  {
   "cell_type": "code",
   "execution_count": 14,
   "id": "57c712f3",
   "metadata": {},
   "outputs": [
    {
     "name": "stdout",
     "output_type": "stream",
     "text": [
      "DisneplusyLand\n"
     ]
    }
   ],
   "source": [
    "# Q3 WAP to append a new string in the middle of a given string \n",
    "\n",
    "text= \"DisneyLand\"\n",
    "new=\"plus\"\n",
    "mid=len(text)//2\n",
    "print(text[0:mid]+new+text[mid:])"
   ]
  },
  {
   "cell_type": "code",
   "execution_count": 20,
   "id": "d4f5d08a",
   "metadata": {},
   "outputs": [
    {
     "name": "stdout",
     "output_type": "stream",
     "text": [
      "pthoastYNFAPI\n"
     ]
    }
   ],
   "source": [
    "# Q4 WAP to arrange string characters such that lowercase letters should come first \n",
    "\n",
    "\n",
    "text = (\"pYthoNFastAPI\")\n",
    "\n",
    "lowercase = \"\"\n",
    "others = \"\"\n",
    "\n",
    "for char in text:\n",
    "    if char.islower():\n",
    "        lowercase += char\n",
    "    else:\n",
    "        others += char\n",
    "\n",
    "result = lowercase + others\n",
    "\n",
    "print( result)\n"
   ]
  },
  {
   "cell_type": "code",
   "execution_count": 29,
   "id": "19274953",
   "metadata": {},
   "outputs": [
    {
     "name": "stdout",
     "output_type": "stream",
     "text": [
      "3\n",
      "8\n",
      "4\n"
     ]
    }
   ],
   "source": [
    "# Q5 WAP to count all the letters,digits and special symbols from a given string \n",
    "\n",
    "str1= \"P@#yn26at^&i5ve\"\n",
    "num=0\n",
    "alpa=0\n",
    "special=0\n",
    "for char in str1:\n",
    "    if char.isdigit():\n",
    "        num +=1\n",
    "    elif char.isalpha():\n",
    "        alpha +=1\n",
    "    else :\n",
    "        special +=1\n",
    "\n",
    "print(num)\n",
    "print(alpha)\n",
    "print(special)"
   ]
  },
  {
   "cell_type": "code",
   "execution_count": null,
   "id": "8df9de2c",
   "metadata": {},
   "outputs": [],
   "source": []
  }
 ],
 "metadata": {
  "kernelspec": {
   "display_name": "Python 3",
   "language": "python",
   "name": "python3"
  },
  "language_info": {
   "codemirror_mode": {
    "name": "ipython",
    "version": 3
   },
   "file_extension": ".py",
   "mimetype": "text/x-python",
   "name": "python",
   "nbconvert_exporter": "python",
   "pygments_lexer": "ipython3",
   "version": "3.12.1"
  }
 },
 "nbformat": 4,
 "nbformat_minor": 5
}
