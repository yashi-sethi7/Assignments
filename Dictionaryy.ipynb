{
 "cells": [
  {
   "cell_type": "code",
   "execution_count": 4,
   "id": "2e3418f2",
   "metadata": {},
   "outputs": [
    {
     "name": "stdout",
     "output_type": "stream",
     "text": [
      "{4: [4, 4, 4], 6: [6, 6], 2: [2, 2], 8: [8, 8], 5: [5]}\n"
     ]
    }
   ],
   "source": [
    "#Q1 wap to group similar items to dictionary values list \n",
    "\n",
    "l=[4,6,6,4,2,2,4,8,5,8]\n",
    "\n",
    "grouped = {}\n",
    "\n",
    "for item in l:\n",
    "    grouped.setdefault(item, []).append(item)\n",
    "\n",
    "print(grouped)\n"
   ]
  },
  {
   "cell_type": "code",
   "execution_count": 6,
   "id": "7e17b3e5",
   "metadata": {},
   "outputs": [
    {
     "name": "stdout",
     "output_type": "stream",
     "text": [
      "{4: [4, 4, 4], 6: [6, 6], 2: [2, 2], 8: [8, 8], 5: [5]}\n"
     ]
    }
   ],
   "source": [
    "#Q1 alternate \n",
    "\n",
    "\n",
    "l = [4, 6, 6, 4, 2, 2, 4, 8, 5, 8]\n",
    "grouped = {}\n",
    "\n",
    "for item in l:\n",
    "    if item not in grouped:\n",
    "        grouped[item] = []  # Create a new list if key doesn't exist\n",
    "    grouped[item].append(item)  # Add item to the corresponding list\n",
    "\n",
    "print(grouped)\n",
    "\n",
    "\n"
   ]
  },
  {
   "cell_type": "code",
   "execution_count": 5,
   "id": "089fe58a",
   "metadata": {},
   "outputs": [
    {
     "name": "stdout",
     "output_type": "stream",
     "text": [
      "[[('gfg', 123), ('best', 10)], [('gfg', 51), ('best', 7)]]\n"
     ]
    }
   ],
   "source": [
    "#Q2 wap to convert list of dictionaries to list of lists \n",
    "\n",
    "\n",
    "\n",
    "text = [{'gfg': 123, 'best': 10}, {'gfg': 51, 'best': 7}]\n",
    "result = []\n",
    "\n",
    "for d in text:\n",
    "    result.append(list(d.items()))\n",
    "print(result)"
   ]
  },
  {
   "cell_type": "code",
   "execution_count": 7,
   "id": "65a676ff",
   "metadata": {},
   "outputs": [
    {
     "name": "stdout",
     "output_type": "stream",
     "text": [
      "{'S005', 'S002', 'S007', 'S001', 'S009'}\n"
     ]
    }
   ],
   "source": [
    "#Q3 wap to print all the distinct values in a dictionary \n",
    "\n",
    "original=[{'V':'S001'},{'V':'S002'},{'VI':'S001'},{'VI':'S005'},{'VII':'S005'},{'VII':'S009'},{'VIII':'S007'}]\n",
    "\n",
    "# Step 1: Create a flat list of all values\n",
    "val = []\n",
    "for d in original:\n",
    "    val.extend(d.values())\n",
    "\n",
    "# Step 2: Convert to set to get unique items\n",
    "distinct = set(val)\n",
    "\n",
    "print(distinct)\n"
   ]
  },
  {
   "cell_type": "code",
   "execution_count": 23,
   "id": "02af63cf",
   "metadata": {},
   "outputs": [
    {
     "name": "stdout",
     "output_type": "stream",
     "text": [
      "Top 3 highest values with keys: ['b', 'e', 'c']\n"
     ]
    }
   ],
   "source": [
    "#Q4 wap to find the highest 3 values of corresponding keys in a dictionary \n",
    "\n",
    "DICT = {'a': 500, 'b': 5894, 'c': 560, 'd': 400, 'e': 5874, 'f': 20}\n",
    "\n",
    "sorted_items = sorted(DICT, key=lambda x: DICT[x], reverse=True)  \n",
    "# DICT[x]:accesses the value associated with key x in the dict. like DICT[a],[b]\n",
    "\n",
    "print(\"Top 3 highest values with keys:\",sorted_items[:3])\n"
   ]
  },
  {
   "cell_type": "code",
   "execution_count": 15,
   "id": "a1aabe26",
   "metadata": {},
   "outputs": [
    {
     "name": "stdout",
     "output_type": "stream",
     "text": [
      "{'item1': 1150, 'item2': 300}\n"
     ]
    }
   ],
   "source": [
    "#Q5 wap to combine values in a list of dictionaries \n",
    "\n",
    "item_list =[{'item': 'item1', 'amount': 400}, {'item': 'item2', 'amount': 300}, {'item': 'item1', 'amount': 750}]\n",
    "\n",
    "combined = {}\n",
    "\n",
    "for entry in item_list:\n",
    "    item = entry['item']\n",
    "    amount=entry['amount']\n",
    "    combined[item] = combined.get(item,0) + amount\n",
    "\n",
    "print(combined)\n",
    "\n",
    "\n"
   ]
  },
  {
   "cell_type": "code",
   "execution_count": null,
   "id": "c1aa3a3c",
   "metadata": {},
   "outputs": [
    {
     "name": "stdout",
     "output_type": "stream",
     "text": [
      "{'item1': 1150, 'item2': 300}\n"
     ]
    }
   ],
   "source": [
    "#alternate \n",
    "\n",
    "item_list = [\n",
    "    {'item': 'item1', 'amount': 400},\n",
    "    {'item': 'item2', 'amount': 300},\n",
    "    {'item': 'item1', 'amount': 750}\n",
    "]\n",
    "\n",
    "# Dictionary to hold combined amounts\n",
    "combined = {}\n",
    "\n",
    "# Loop through each dictionary in the list\n",
    "for entry in item_list:\n",
    "    item = entry['item']\n",
    "    amount = entry['amount']\n",
    "    \n",
    "    if item in combined:\n",
    "        combined[item] += amount\n",
    "    else:\n",
    "        combined[item] = amount\n",
    "\n",
    "print(combined)\n"
   ]
  },
  {
   "cell_type": "code",
   "execution_count": 22,
   "id": "e65336b5",
   "metadata": {},
   "outputs": [
    {
     "name": "stdout",
     "output_type": "stream",
     "text": [
      "{'n1': [1, 2, 3], 'n2': [1, 2, 5], 'n3': [2, 3, 4]}\n"
     ]
    }
   ],
   "source": [
    "#Q6 wap to sort a list numerically in a dictionary \n",
    "\n",
    "num={'n1':[2,3,1],'n2':[5,1,2],'n3':[3,2,4]}\n",
    "\n",
    "for key in num:\n",
    "    num[key] = sorted(num[key])\n",
    "\n",
    "#sorted_lists = {key: sorted(value) for key, value in num.items()}\n",
    "\n",
    "print(num)\n",
    "\n"
   ]
  },
  {
   "cell_type": "code",
   "execution_count": 37,
   "id": "86a8da2b",
   "metadata": {},
   "outputs": [
    {
     "name": "stdout",
     "output_type": "stream",
     "text": [
      "Total items: 5\n"
     ]
    }
   ],
   "source": [
    "#Q7 wap to count the number of items in a dictionary value that is a list \n",
    "\n",
    "my_dict={'alex':['sub1','sub2','sub3'],'david':['sub1','sub2']}\n",
    "\n",
    "#count_dict={}\n",
    "#total_count = sum(len(value) for value in my_dict.values())\n",
    "#print('Total items:',total_count)\n",
    "\n",
    "count_dict = 0\n",
    "for value in my_dict.values():\n",
    "    count_dict += len(value)\n",
    "\n",
    "print('Total items:',count_dict)          \n",
    "\n"
   ]
  },
  {
   "cell_type": "code",
   "execution_count": null,
   "id": "85045b76",
   "metadata": {},
   "outputs": [
    {
     "name": "stdout",
     "output_type": "stream",
     "text": [
      "{'first': [1, 4, 5, 6], 'second': [8, 9], 'third': [10, 22], 'fourth': [11]}\n"
     ]
    }
   ],
   "source": [
    "#Q8 wap to remove duplicate values across dictionary values \n",
    "\n",
    "my_dict={'first':[1,4,5,6],'second':[1,8,9],'third':[10,22,4],'fourth':[5,11,22]}\n",
    "seen = set()\n",
    "cleaned = {key: [val for val in values if val not in seen and not seen.add(val)] for key, values in my_dict.items()}\n",
    "print(cleaned)\n"
   ]
  },
  {
   "cell_type": "code",
   "execution_count": null,
   "id": "799fb31e",
   "metadata": {},
   "outputs": [
    {
     "name": "stdout",
     "output_type": "stream",
     "text": [
      "{'first': [1, 4, 5, 6], 'second': [8, 9], 'third': [10, 22], 'fourth': [11]}\n"
     ]
    }
   ],
   "source": [
    "#alternate \n",
    "\n",
    "my_dict = {'first': [1, 4, 5, 6],'second': [1, 8, 9],'third': [10, 22, 4],'fourth': [5, 11, 22]}\n",
    "seen = set()  #This set will be used to track values that have already been added\n",
    "new_dict = {}  #This will store the final result\n",
    "\n",
    "for key, values in my_dict.items():\n",
    "    unique_values = []\n",
    "    for val in values:\n",
    "        if val not in seen:\n",
    "            unique_values.append(val)\n",
    "            seen.add(val)          #This ensures that future lists won't include this value again.\n",
    "    new_dict[key] = unique_values\n",
    "\n",
    "print(new_dict)\n",
    "\n",
    "#unique_values = []\n",
    "#For each key, we start with an empty list called unique_values.\n",
    "#This will hold values from the current list that haven't been seen before."
   ]
  },
  {
   "cell_type": "code",
   "execution_count": 42,
   "id": "c09faa21",
   "metadata": {},
   "outputs": [
    {
     "name": "stdout",
     "output_type": "stream",
     "text": [
      "{1: 5, 5: 2, 3: 3, 4: 3, 2: 4}\n"
     ]
    }
   ],
   "source": [
    "#Q9 wap counting the frequencies in a list using dictionary in python \n",
    "\n",
    "num=[1,1,1,5,5,3,1,3,3,1,4,4,4,2,2,2,2]\n",
    "count={}\n",
    "for element in num:\n",
    "    if element in count:\n",
    "        count[element]+=1\n",
    "    else:\n",
    "        count[element]=1\n",
    "print(count)\n"
   ]
  },
  {
   "cell_type": "code",
   "execution_count": null,
   "id": "70a7d9dc",
   "metadata": {},
   "outputs": [],
   "source": []
  }
 ],
 "metadata": {
  "kernelspec": {
   "display_name": "Python 3",
   "language": "python",
   "name": "python3"
  },
  "language_info": {
   "codemirror_mode": {
    "name": "ipython",
    "version": 3
   },
   "file_extension": ".py",
   "mimetype": "text/x-python",
   "name": "python",
   "nbconvert_exporter": "python",
   "pygments_lexer": "ipython3",
   "version": "3.12.1"
  }
 },
 "nbformat": 4,
 "nbformat_minor": 5
}
